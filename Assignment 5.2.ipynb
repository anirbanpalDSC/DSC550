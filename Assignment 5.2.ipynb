{
 "cells": [
  {
   "cell_type": "markdown",
   "metadata": {},
   "source": [
    "#### 1. Part of Speech Tagging\n",
    "\n",
    "**a. Extracting Part of Speech Tags**\n",
    "\n",
    "Pick an article in the Wikipedia featured articles corpus. Extract the part of speech tags for the first five sentences in the article using NLTK’s pos_tag function. You may need to download the POS tagger data using the following code."
   ]
  },
  {
   "cell_type": "code",
   "execution_count": 54,
   "metadata": {},
   "outputs": [],
   "source": [
    "import nltk\n",
    "#'averaged_perception_tagger' module from nltk is installed from python console\n",
    "#nltk.download('averaged_perception_tagger')\n",
    "\n",
    "from nltk import word_tokenize\n",
    "from nltk import sent_tokenize\n",
    "import pandas as pd\n",
    "import json\n",
    "import string\n",
    "import re\n",
    "from nltk.corpus import stopwords\n",
    "\n",
    "# Create stop words\n",
    "stop_words = stopwords.words('english')"
   ]
  },
  {
   "cell_type": "code",
   "execution_count": 3,
   "metadata": {},
   "outputs": [],
   "source": [
    "# Read the json files as data frame\n",
    "def readfiles(dirdata, infile):\n",
    "    data = []\n",
    "\n",
    "    full_filename = \"%s/%s\" % (dirdata, infile)\n",
    "        \n",
    "    with open(full_filename,'r') as fi:\n",
    "        for line in fi:\n",
    "            data.append(json.loads(line))\n",
    "\n",
    "    # Create data frame from the json data\n",
    "    outdf = pd.DataFrame(data)\n",
    "    \n",
    "    return outdf"
   ]
  },
  {
   "cell_type": "code",
   "execution_count": 106,
   "metadata": {},
   "outputs": [],
   "source": [
    "def cleanString(incomingString):\n",
    "    newstring = incomingString\n",
    "    newstring = newstring.replace(\"!\",\"\")\n",
    "    newstring = newstring.replace(\"@\",\"\")\n",
    "    newstring = newstring.replace(\"#\",\"\")\n",
    "    newstring = newstring.replace(\"$\",\"\")\n",
    "    newstring = newstring.replace(\"%\",\"\")\n",
    "    newstring = newstring.replace(\"^\",\"\")\n",
    "    newstring = newstring.replace(\"&\",\"and\")\n",
    "    newstring = newstring.replace(\"*\",\"\")\n",
    "    newstring = newstring.replace(\"(\",\"\")\n",
    "    newstring = newstring.replace(\")\",\"\")\n",
    "    newstring = newstring.replace(\"+\",\"\")\n",
    "    newstring = newstring.replace(\"=\",\"\")\n",
    "    newstring = newstring.replace(\"?\",\"\")\n",
    "    newstring = newstring.replace(\"\\'\",\"\")\n",
    "    newstring = newstring.replace(\"\\\"\",\"\")\n",
    "    newstring = newstring.replace(\"{\",\"\")\n",
    "    newstring = newstring.replace(\"}\",\"\")\n",
    "    newstring = newstring.replace(\"[\",\"\")\n",
    "    newstring = newstring.replace(\"]\",\"\")\n",
    "    newstring = newstring.replace(\"<\",\"\")\n",
    "    newstring = newstring.replace(\">\",\"\")\n",
    "    newstring = newstring.replace(\"~\",\"\")\n",
    "    newstring = newstring.replace(\"`\",\"\")\n",
    "    newstring = newstring.replace(\":\",\"\")\n",
    "    newstring = newstring.replace(\";\",\"\")\n",
    "    newstring = newstring.replace(\"|\",\"\")\n",
    "    newstring = newstring.replace(\"\\\\\",\"\")\n",
    "    newstring = newstring.replace(\"/\",\"\")        \n",
    "    return newstring"
   ]
  },
  {
   "cell_type": "code",
   "execution_count": 5,
   "metadata": {},
   "outputs": [
    {
     "data": {
      "text/html": [
       "<div>\n",
       "<style scoped>\n",
       "    .dataframe tbody tr th:only-of-type {\n",
       "        vertical-align: middle;\n",
       "    }\n",
       "\n",
       "    .dataframe tbody tr th {\n",
       "        vertical-align: top;\n",
       "    }\n",
       "\n",
       "    .dataframe thead th {\n",
       "        text-align: right;\n",
       "    }\n",
       "</style>\n",
       "<table border=\"1\" class=\"dataframe\">\n",
       "  <thead>\n",
       "    <tr style=\"text-align: right;\">\n",
       "      <th></th>\n",
       "      <th>interlinks</th>\n",
       "      <th>section_texts</th>\n",
       "      <th>section_titles</th>\n",
       "      <th>title</th>\n",
       "    </tr>\n",
       "  </thead>\n",
       "  <tbody>\n",
       "    <tr>\n",
       "      <th>0</th>\n",
       "      <td>{'Christchurch': 'Christchurch', 'Canterbury, ...</td>\n",
       "      <td>[\\n\\n\\nBenjamin Mountfort around 1875\\n\\n'''Be...</td>\n",
       "      <td>[Introduction, Early life, New Zealand, Return...</td>\n",
       "      <td>Benjamin Mountfort</td>\n",
       "    </tr>\n",
       "    <tr>\n",
       "      <th>1</th>\n",
       "      <td>{'abstract art': 'abstract', 'the Blitz': 'the...</td>\n",
       "      <td>[\\n\\n\\n\\n\\n'''Henry Spencer Moore'''  (30 July...</td>\n",
       "      <td>[Introduction, Life, Style, Legacy, Collection...</td>\n",
       "      <td>Henry Moore</td>\n",
       "    </tr>\n",
       "    <tr>\n",
       "      <th>2</th>\n",
       "      <td>{'shrub': 'shrub', 'Banksia': 'Banksia', 'Prot...</td>\n",
       "      <td>[\\n\\n\\nThe '''hairpin banksia''' (''Banksia sp...</td>\n",
       "      <td>[Introduction, Description, Taxonomy, Distribu...</td>\n",
       "      <td>Banksia spinulosa</td>\n",
       "    </tr>\n",
       "    <tr>\n",
       "      <th>3</th>\n",
       "      <td>{'shrub': 'shrub', 'Proteaceae': 'Proteaceae',...</td>\n",
       "      <td>[\\n\\n\\n\\n\\n\\n'''''Banksia aemula''''', commonl...</td>\n",
       "      <td>[Introduction, Description, Taxonomy, Distribu...</td>\n",
       "      <td>Banksia aemula</td>\n",
       "    </tr>\n",
       "    <tr>\n",
       "      <th>4</th>\n",
       "      <td>{'Noongar': 'Noongar', 'species': 'species', '...</td>\n",
       "      <td>[\\n\\n\\n\\n'''''Banksia attenuata''''', commonly...</td>\n",
       "      <td>[Introduction, Description, Taxonomy, Distribu...</td>\n",
       "      <td>Banksia attenuata</td>\n",
       "    </tr>\n",
       "  </tbody>\n",
       "</table>\n",
       "</div>"
      ],
      "text/plain": [
       "                                          interlinks  \\\n",
       "0  {'Christchurch': 'Christchurch', 'Canterbury, ...   \n",
       "1  {'abstract art': 'abstract', 'the Blitz': 'the...   \n",
       "2  {'shrub': 'shrub', 'Banksia': 'Banksia', 'Prot...   \n",
       "3  {'shrub': 'shrub', 'Proteaceae': 'Proteaceae',...   \n",
       "4  {'Noongar': 'Noongar', 'species': 'species', '...   \n",
       "\n",
       "                                       section_texts  \\\n",
       "0  [\\n\\n\\nBenjamin Mountfort around 1875\\n\\n'''Be...   \n",
       "1  [\\n\\n\\n\\n\\n'''Henry Spencer Moore'''  (30 July...   \n",
       "2  [\\n\\n\\nThe '''hairpin banksia''' (''Banksia sp...   \n",
       "3  [\\n\\n\\n\\n\\n\\n'''''Banksia aemula''''', commonl...   \n",
       "4  [\\n\\n\\n\\n'''''Banksia attenuata''''', commonly...   \n",
       "\n",
       "                                      section_titles               title  \n",
       "0  [Introduction, Early life, New Zealand, Return...  Benjamin Mountfort  \n",
       "1  [Introduction, Life, Style, Legacy, Collection...         Henry Moore  \n",
       "2  [Introduction, Description, Taxonomy, Distribu...   Banksia spinulosa  \n",
       "3  [Introduction, Description, Taxonomy, Distribu...      Banksia aemula  \n",
       "4  [Introduction, Description, Taxonomy, Distribu...   Banksia attenuata  "
      ]
     },
     "execution_count": 5,
     "metadata": {},
     "output_type": "execute_result"
    }
   ],
   "source": [
    "# Define files and location\n",
    "dirdata = 'data/wikipedia/featured-articles'\n",
    "\n",
    "# Using 1 file for this excercise, but have provision fror loading multiple\n",
    "files = ['featured-articles_010.jsonl']\n",
    "\n",
    "# Read files, clean and store as data frame\n",
    "article = readfiles(dirdata, files[0])\n",
    "\n",
    "# Check data\n",
    "article.head()"
   ]
  },
  {
   "cell_type": "code",
   "execution_count": 73,
   "metadata": {},
   "outputs": [
    {
     "data": {
      "text/plain": [
       "\"\\n\\n\\nBenjamin Mountfort around 1875\\n\\n'''Benjamin Woolfield Mountfort''' (13 March 1825 – 15 March 1898) was an English emigrant to New Zealand, where he became one of that country's most prominent 19th-century architects. He was instrumental in shaping the city of Christchurch's unique architectural identity and culture, and was appointed the first official Provincial Architect of the developing province of Canterbury. Heavily influenced by the Anglo-Catholic philosophy behind early Victorian architecture, he is credited with importing the Gothic revival style to New Zealand. His Gothic designs constructed in both wood and stone in the province are considered unique to New Zealand. Today, he is considered the founding architect of the province of Canterbury.\\n\""
      ]
     },
     "execution_count": 73,
     "metadata": {},
     "output_type": "execute_result"
    }
   ],
   "source": [
    "# Select article text from the first article and covert to list\n",
    "txt = article.loc[0,'section_texts']\n",
    "txt1 = txt[0]\n",
    "txt1"
   ]
  },
  {
   "cell_type": "code",
   "execution_count": 81,
   "metadata": {},
   "outputs": [
    {
     "data": {
      "text/plain": [
       "6"
      ]
     },
     "execution_count": 81,
     "metadata": {},
     "output_type": "execute_result"
    }
   ],
   "source": [
    "# Check if the text has 5 or more articles or not\n",
    "len(txt1.split('.'))"
   ]
  },
  {
   "cell_type": "code",
   "execution_count": 123,
   "metadata": {},
   "outputs": [
    {
     "data": {
      "text/plain": [
       "[\"\\n\\n\\nBenjamin Mountfort around 1875\\n\\n'''Benjamin Woolfield Mountfort''' (13 March 1825 – 15 March 1898) was an English emigrant to New Zealand, where he became one of that country's most prominent 19th-century architects\",\n",
       " \" He was instrumental in shaping the city of Christchurch's unique architectural identity and culture, and was appointed the first official Provincial Architect of the developing province of Canterbury\",\n",
       " ' Heavily influenced by the Anglo-Catholic philosophy behind early Victorian architecture, he is credited with importing the Gothic revival style to New Zealand',\n",
       " ' His Gothic designs constructed in both wood and stone in the province are considered unique to New Zealand',\n",
       " ' Today, he is considered the founding architect of the province of Canterbury']"
      ]
     },
     "execution_count": 123,
     "metadata": {},
     "output_type": "execute_result"
    }
   ],
   "source": [
    "# Extract the first six sentences\n",
    "sent = txt1.split('.')[0:5]\n",
    "sent"
   ]
  },
  {
   "cell_type": "code",
   "execution_count": 291,
   "metadata": {},
   "outputs": [],
   "source": [
    "# Tokenizing and finding parts of speech\n",
    "def pos(strs):\n",
    "    # Tokenize the input string\n",
    "    tokenized = sent_tokenize(strs) \n",
    "    \n",
    "    for i in tokenized: \n",
    "      \n",
    "        # Word tokenizers is used to find the words  \n",
    "        # and punctuation in a string \n",
    "        wordsList = nltk.word_tokenize(i) \n",
    "\n",
    "        # removing stop words from wordList \n",
    "        wordsList = [w for w in wordsList if not w in stop_words]  \n",
    "\n",
    "        #  Using a Tagger. Which is part-of-speech  \n",
    "        # tagger or POS-tagger.  \n",
    "        tagged = nltk.pos_tag(wordsList) \n",
    "  \n",
    "    # Print formatted outpout\n",
    "    print(strs)\n",
    "    print(' ')\n",
    "    print(tagged) \n",
    "    print(' ')"
   ]
  },
  {
   "cell_type": "code",
   "execution_count": 292,
   "metadata": {},
   "outputs": [
    {
     "name": "stdout",
     "output_type": "stream",
     "text": [
      "\n",
      "\n",
      "\n",
      "Benjamin Mountfort around 1875\n",
      "\n",
      "Benjamin Woolfield Mountfort 13 March 1825 – 15 March 1898 was an English emigrant to New Zealand, where he became one of that countrys most prominent 19th-century architects\n",
      " \n",
      "[('Benjamin', 'NNP'), ('Mountfort', 'NNP'), ('around', 'IN'), ('1875', 'CD'), ('Benjamin', 'NNP'), ('Woolfield', 'NNP'), ('Mountfort', 'NNP'), ('13', 'CD'), ('March', 'NNP'), ('1825', 'CD'), ('–', 'NNP'), ('15', 'CD'), ('March', 'NNP'), ('1898', 'CD'), ('English', 'NNP'), ('emigrant', 'JJ'), ('New', 'NNP'), ('Zealand', 'NNP'), (',', ','), ('became', 'VBD'), ('one', 'CD'), ('countrys', 'NN'), ('prominent', 'JJ'), ('19th-century', 'JJ'), ('architects', 'NNS')]\n",
      " \n",
      " He was instrumental in shaping the city of Christchurchs unique architectural identity and culture, and was appointed the first official Provincial Architect of the developing province of Canterbury\n",
      " \n",
      "[('He', 'PRP'), ('instrumental', 'JJ'), ('shaping', 'VBG'), ('city', 'NN'), ('Christchurchs', 'NNP'), ('unique', 'JJ'), ('architectural', 'JJ'), ('identity', 'NN'), ('culture', 'NN'), (',', ','), ('appointed', 'VBD'), ('first', 'RB'), ('official', 'JJ'), ('Provincial', 'NNP'), ('Architect', 'NNP'), ('developing', 'VBG'), ('province', 'NN'), ('Canterbury', 'NN')]\n",
      " \n",
      " Heavily influenced by the Anglo-Catholic philosophy behind early Victorian architecture, he is credited with importing the Gothic revival style to New Zealand\n",
      " \n",
      "[('Heavily', 'RB'), ('influenced', 'VBN'), ('Anglo-Catholic', 'JJ'), ('philosophy', 'NN'), ('behind', 'IN'), ('early', 'JJ'), ('Victorian', 'JJ'), ('architecture', 'NN'), (',', ','), ('credited', 'VBD'), ('importing', 'VBG'), ('Gothic', 'NNP'), ('revival', 'NN'), ('style', 'NN'), ('New', 'NNP'), ('Zealand', 'NNP')]\n",
      " \n",
      " His Gothic designs constructed in both wood and stone in the province are considered unique to New Zealand\n",
      " \n",
      "[('His', 'PRP$'), ('Gothic', 'NNP'), ('designs', 'NNS'), ('constructed', 'VBD'), ('wood', 'NN'), ('stone', 'NN'), ('province', 'NN'), ('considered', 'VBN'), ('unique', 'JJ'), ('New', 'NNP'), ('Zealand', 'NNP')]\n",
      " \n",
      " Today, he is considered the founding architect of the province of Canterbury\n",
      " \n",
      "[('Today', 'NN'), (',', ','), ('considered', 'VBN'), ('founding', 'NN'), ('architect', 'NN'), ('province', 'NN'), ('Canterbury', 'NNP')]\n",
      " \n"
     ]
    }
   ],
   "source": [
    "# Remove punctuations and special chatracters from the sentence\n",
    "lines = [cleanString(l.strip(',').rstrip()) for l in sent]\n",
    "\n",
    "# Get parts of speech\n",
    "for i in range(len(lines)):\n",
    "    pos(lines[i])"
   ]
  },
  {
   "cell_type": "markdown",
   "metadata": {},
   "source": [
    "**b. Selecting Nouns and Verbs**\n",
    "\n",
    "Repeat the prior step, but only include the nouns and verbs. Below is a list of the noun and verb tags.\n",
    "\n",
    "NN: noun, common, singular or mass<br>\n",
    "NNP: noun, proper, singular<br>\n",
    "NNPS: noun, proper, plural<br>\n",
    "NNS: noun, common, plural<br>\n",
    "VB: verb, base form<br>\n",
    "VBD: verb, past tense<br>\n",
    "VBG: verb, present participle or gerund<br>\n",
    "VBN: verb, past participle<br>\n",
    "VBP: verb, present tense, not 3rd person singular<br>\n",
    "VBZ: verb, present tense, 3rd person singular"
   ]
  },
  {
   "cell_type": "code",
   "execution_count": 325,
   "metadata": {},
   "outputs": [],
   "source": [
    "# Create a tuple of all the allowed tags (Noun and Verb)\n",
    "allowed_tags = ('NN', 'NNP', 'NNPS', 'NNS', 'VB', 'VBD', 'VBG', 'VBN', 'VBP', 'VBZ')\n",
    "\n",
    "# Tokenizing and finding parts of speech\n",
    "def posNV(strs):\n",
    "    # Tokenize the input string\n",
    "    tokenized = sent_tokenize(strs) \n",
    "    \n",
    "    for i in tokenized:\n",
    "        # Word tokenizers is used to find the words  \n",
    "        # and punctuation in a string \n",
    "        wordsList = nltk.word_tokenize(i) \n",
    "\n",
    "        # removing stop words from wordList \n",
    "        wordsList = [w for w in wordsList if not w in stop_words]  \n",
    "\n",
    "        #  Using a Tagger. Which is part-of-speech  \n",
    "        # tagger or POS-tagger.  \n",
    "        tagged = nltk.pos_tag(wordsList)         \n",
    "        dt_tags = [t for t in tagged if t[1] in allowed_tags]\n",
    "                \n",
    "    # Print formatted outpout\n",
    "    print(strs)\n",
    "    print(' ')\n",
    "    print(dt_tags)\n",
    "    print(' ')"
   ]
  },
  {
   "cell_type": "code",
   "execution_count": 326,
   "metadata": {},
   "outputs": [
    {
     "name": "stdout",
     "output_type": "stream",
     "text": [
      "\n",
      "\n",
      "\n",
      "Benjamin Mountfort around 1875\n",
      "\n",
      "Benjamin Woolfield Mountfort 13 March 1825 – 15 March 1898 was an English emigrant to New Zealand, where he became one of that countrys most prominent 19th-century architects\n",
      " \n",
      "[('Benjamin', 'NNP'), ('Mountfort', 'NNP'), ('Benjamin', 'NNP'), ('Woolfield', 'NNP'), ('Mountfort', 'NNP'), ('March', 'NNP'), ('–', 'NNP'), ('March', 'NNP'), ('English', 'NNP'), ('New', 'NNP'), ('Zealand', 'NNP'), ('became', 'VBD'), ('countrys', 'NN'), ('architects', 'NNS')]\n",
      " \n",
      " He was instrumental in shaping the city of Christchurchs unique architectural identity and culture, and was appointed the first official Provincial Architect of the developing province of Canterbury\n",
      " \n",
      "[('shaping', 'VBG'), ('city', 'NN'), ('Christchurchs', 'NNP'), ('identity', 'NN'), ('culture', 'NN'), ('appointed', 'VBD'), ('Provincial', 'NNP'), ('Architect', 'NNP'), ('developing', 'VBG'), ('province', 'NN'), ('Canterbury', 'NN')]\n",
      " \n",
      " Heavily influenced by the Anglo-Catholic philosophy behind early Victorian architecture, he is credited with importing the Gothic revival style to New Zealand\n",
      " \n",
      "[('influenced', 'VBN'), ('philosophy', 'NN'), ('architecture', 'NN'), ('credited', 'VBD'), ('importing', 'VBG'), ('Gothic', 'NNP'), ('revival', 'NN'), ('style', 'NN'), ('New', 'NNP'), ('Zealand', 'NNP')]\n",
      " \n",
      " His Gothic designs constructed in both wood and stone in the province are considered unique to New Zealand\n",
      " \n",
      "[('Gothic', 'NNP'), ('designs', 'NNS'), ('constructed', 'VBD'), ('wood', 'NN'), ('stone', 'NN'), ('province', 'NN'), ('considered', 'VBN'), ('New', 'NNP'), ('Zealand', 'NNP')]\n",
      " \n",
      " Today, he is considered the founding architect of the province of Canterbury\n",
      " \n",
      "[('Today', 'NN'), ('considered', 'VBN'), ('founding', 'NN'), ('architect', 'NN'), ('province', 'NN'), ('Canterbury', 'NNP')]\n",
      " \n"
     ]
    }
   ],
   "source": [
    "# Get parts of speech\n",
    "for i in range(len(lines)):\n",
    "    posNV(lines[i])"
   ]
  },
  {
   "cell_type": "markdown",
   "metadata": {},
   "source": [
    "#### 2. N-Grams\n",
    "\n",
    "**a. N-Gram Frequencies**\n",
    "\n",
    "Using the Wikipedia featured article corpus, find and report the 20 most common bigrams and trigrams. You should include the total number of times the bigram/trigram occurred in the corpus as well as the logarithm of the probability of occurring within the corpus. In mathematical terms, if N is the total number of bigrams or trigrams in the corpus and a particular item occurred m times, then the log frequency is log(m/N). It is common practice to report in logarithmic probabilities when dealing with low probability values."
   ]
  },
  {
   "cell_type": "code",
   "execution_count": null,
   "metadata": {},
   "outputs": [],
   "source": []
  }
 ],
 "metadata": {
  "kernelspec": {
   "display_name": "Python 3",
   "language": "python",
   "name": "python3"
  },
  "language_info": {
   "codemirror_mode": {
    "name": "ipython",
    "version": 3
   },
   "file_extension": ".py",
   "mimetype": "text/x-python",
   "name": "python",
   "nbconvert_exporter": "python",
   "pygments_lexer": "ipython3",
   "version": "3.6.4"
  }
 },
 "nbformat": 4,
 "nbformat_minor": 2
}
